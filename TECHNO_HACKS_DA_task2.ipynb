{
  "nbformat": 4,
  "nbformat_minor": 0,
  "metadata": {
    "colab": {
      "provenance": []
    },
    "kernelspec": {
      "name": "python3",
      "display_name": "Python 3"
    },
    "language_info": {
      "name": "python"
    }
  },
  "cells": [
    {
      "cell_type": "markdown",
      "source": [
        "# **TASK 2 CALCULATE SUMMARY STATISTICS**"
      ],
      "metadata": {
        "id": "qaeN9MwMtgRu"
      }
    },
    {
      "cell_type": "code",
      "execution_count": 3,
      "metadata": {
        "colab": {
          "base_uri": "https://localhost:8080/"
        },
        "id": "SMO50KnpsKpg",
        "outputId": "191d06a4-cef9-458f-a5c5-e8bb0dc4531a"
      },
      "outputs": [
        {
          "output_type": "stream",
          "name": "stdout",
          "text": [
            "Initial shape of the dataset: (418, 12)\n",
            "   PassengerId  Survived  Pclass  \\\n",
            "0          892         0       3   \n",
            "1          893         1       3   \n",
            "2          894         0       2   \n",
            "3          895         0       3   \n",
            "4          896         1       3   \n",
            "\n",
            "                                           Name     Sex   Age  SibSp  Parch  \\\n",
            "0                              Kelly, Mr. James    male  34.5      0      0   \n",
            "1              Wilkes, Mrs. James (Ellen Needs)  female  47.0      1      0   \n",
            "2                     Myles, Mr. Thomas Francis    male  62.0      0      0   \n",
            "3                              Wirz, Mr. Albert    male  27.0      0      0   \n",
            "4  Hirvonen, Mrs. Alexander (Helga E Lindqvist)  female  22.0      1      1   \n",
            "\n",
            "    Ticket     Fare Cabin Embarked  \n",
            "0   330911   7.8292   NaN        Q  \n",
            "1   363272   7.0000   NaN        S  \n",
            "2   240276   9.6875   NaN        Q  \n",
            "3   315154   8.6625   NaN        S  \n",
            "4  3101298  12.2875   NaN        S  \n"
          ]
        }
      ],
      "source": [
        "import pandas as pd\n",
        "\n",
        "# Load your dataset\n",
        "data = pd.read_csv('/content/tested.csv')\n",
        "\n",
        "# Display the first few rows\n",
        "print(\"Initial shape of the dataset:\", data.shape)\n",
        "print(data.head())"
      ]
    },
    {
      "cell_type": "code",
      "source": [
        "numeric_columns = data.select_dtypes(include=['float64', 'int64'])\n",
        "summary_stats = numeric_columns.describe()\n",
        "print(\"Summary Statistics:\")\n",
        "print(summary_stats)\n",
        "# Calculate summary statistics\n",
        "summary_stats = {\n",
        "    'Mean': data.mean(numeric_only=True),\n",
        "    'Median': data.median(numeric_only=True),\n",
        "    'Standard Deviation': data.std(numeric_only=True)\n",
        "}\n",
        "\n",
        "# Calculate mode for each column\n",
        "modes = data.mode(numeric_only=True).iloc[0]\n",
        "\n",
        "# Add mode to the summary statistics\n",
        "summary_stats['Mode'] = modes\n",
        "\n",
        "# Display the summary statistics\n",
        "for stat_name, stat_values in summary_stats.items():\n",
        "    print(f\"\\n{stat_name}:\\n{stat_values}\")\n"
      ],
      "metadata": {
        "colab": {
          "base_uri": "https://localhost:8080/"
        },
        "id": "k5P75K2wtI3M",
        "outputId": "4319b23f-d69a-40a8-d13f-2d27c22bf804"
      },
      "execution_count": 4,
      "outputs": [
        {
          "output_type": "stream",
          "name": "stdout",
          "text": [
            "Summary Statistics:\n",
            "       PassengerId    Survived      Pclass         Age       SibSp  \\\n",
            "count   418.000000  418.000000  418.000000  332.000000  418.000000   \n",
            "mean   1100.500000    0.363636    2.265550   30.272590    0.447368   \n",
            "std     120.810458    0.481622    0.841838   14.181209    0.896760   \n",
            "min     892.000000    0.000000    1.000000    0.170000    0.000000   \n",
            "25%     996.250000    0.000000    1.000000   21.000000    0.000000   \n",
            "50%    1100.500000    0.000000    3.000000   27.000000    0.000000   \n",
            "75%    1204.750000    1.000000    3.000000   39.000000    1.000000   \n",
            "max    1309.000000    1.000000    3.000000   76.000000    8.000000   \n",
            "\n",
            "            Parch        Fare  \n",
            "count  418.000000  417.000000  \n",
            "mean     0.392344   35.627188  \n",
            "std      0.981429   55.907576  \n",
            "min      0.000000    0.000000  \n",
            "25%      0.000000    7.895800  \n",
            "50%      0.000000   14.454200  \n",
            "75%      0.000000   31.500000  \n",
            "max      9.000000  512.329200  \n",
            "\n",
            "Mean:\n",
            "PassengerId    1100.500000\n",
            "Survived          0.363636\n",
            "Pclass            2.265550\n",
            "Age              30.272590\n",
            "SibSp             0.447368\n",
            "Parch             0.392344\n",
            "Fare             35.627188\n",
            "dtype: float64\n",
            "\n",
            "Median:\n",
            "PassengerId    1100.5000\n",
            "Survived          0.0000\n",
            "Pclass            3.0000\n",
            "Age              27.0000\n",
            "SibSp             0.0000\n",
            "Parch             0.0000\n",
            "Fare             14.4542\n",
            "dtype: float64\n",
            "\n",
            "Standard Deviation:\n",
            "PassengerId    120.810458\n",
            "Survived         0.481622\n",
            "Pclass           0.841838\n",
            "Age             14.181209\n",
            "SibSp            0.896760\n",
            "Parch            0.981429\n",
            "Fare            55.907576\n",
            "dtype: float64\n",
            "\n",
            "Mode:\n",
            "PassengerId    892.00\n",
            "Survived         0.00\n",
            "Pclass           3.00\n",
            "Age             21.00\n",
            "SibSp            0.00\n",
            "Parch            0.00\n",
            "Fare             7.75\n",
            "Name: 0, dtype: float64\n"
          ]
        }
      ]
    },
    {
      "cell_type": "code",
      "source": [],
      "metadata": {
        "id": "ODTQzBJ2tNTC"
      },
      "execution_count": null,
      "outputs": []
    }
  ]
}