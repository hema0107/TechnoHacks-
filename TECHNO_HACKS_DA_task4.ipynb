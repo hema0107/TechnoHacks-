{
  "nbformat": 4,
  "nbformat_minor": 0,
  "metadata": {
    "colab": {
      "provenance": []
    },
    "kernelspec": {
      "name": "python3",
      "display_name": "Python 3"
    },
    "language_info": {
      "name": "python"
    }
  },
  "cells": [
    {
      "cell_type": "markdown",
      "source": [
        "# **TASK 4 PIVOTE TABLE**"
      ],
      "metadata": {
        "id": "spq6TqhVv70h"
      }
    },
    {
      "cell_type": "code",
      "execution_count": 3,
      "metadata": {
        "id": "Uxai0KdMvE-k",
        "colab": {
          "base_uri": "https://localhost:8080/"
        },
        "outputId": "8474e9a4-f96e-4a16-8ca9-1ac683a48ed6"
      },
      "outputs": [
        {
          "output_type": "stream",
          "name": "stdout",
          "text": [
            "\n",
            "Pivot Table - Average Fare by Pclass and Sex:\n",
            "\n",
            "Sex         female       male\n",
            "Pclass                       \n",
            "1       115.591168  75.586551\n",
            "2        26.438750  20.184654\n",
            "3        13.735129  11.826350\n"
          ]
        }
      ],
      "source": [
        "import pandas as pd\n",
        "\n",
        "# Load your dataset\n",
        "data = pd.read_csv('/content/tested.csv')\n",
        "\n",
        "# We want to calculate the average 'Fare' for each 'Pclass' and 'Sex'\n",
        "\n",
        "pivot_table = data.pivot_table(values='Fare', index='Pclass', columns='Sex', aggfunc='mean')\n",
        "\n",
        "# Display the pivot table\n",
        "print(\"\\nPivot Table - Average Fare by Pclass and Sex:\\n\")\n",
        "print(pivot_table)\n"
      ]
    },
    {
      "cell_type": "code",
      "source": [
        "# Create a pivot table to summarize passenger count by 'Pclass' and 'Survived'\n",
        "pivot_table_passengers = data.pivot_table(values='PassengerId', index='Pclass', columns='Survived', aggfunc='count', fill_value=0)\n",
        "\n",
        "# Display the pivot table\n",
        "print(\"\\nPivot Table - Passenger Count by Pclass and Survived:\\n\")\n",
        "print(pivot_table_passengers)"
      ],
      "metadata": {
        "colab": {
          "base_uri": "https://localhost:8080/"
        },
        "id": "LFhIQen0v3A5",
        "outputId": "411f8fcd-140b-4548-976c-f5f204ecba9e"
      },
      "execution_count": 4,
      "outputs": [
        {
          "output_type": "stream",
          "name": "stdout",
          "text": [
            "\n",
            "Pivot Table - Passenger Count by Pclass and Survived:\n",
            "\n",
            "Survived    0   1\n",
            "Pclass           \n",
            "1          57  50\n",
            "2          63  30\n",
            "3         146  72\n"
          ]
        }
      ]
    },
    {
      "cell_type": "code",
      "source": [],
      "metadata": {
        "id": "2M_lP15Iv6oE"
      },
      "execution_count": null,
      "outputs": []
    }
  ]
}